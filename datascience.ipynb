{
  "nbformat": 4,
  "nbformat_minor": 0,
  "metadata": {
    "colab": {
      "provenance": [],
      "authorship_tag": "ABX9TyM55jXA8EEcN3mMrVWyuTjB",
      "include_colab_link": true
    },
    "kernelspec": {
      "name": "ir",
      "display_name": "R"
    },
    "language_info": {
      "name": "R"
    }
  },
  "cells": [
    {
      "cell_type": "markdown",
      "metadata": {
        "id": "view-in-github",
        "colab_type": "text"
      },
      "source": [
        "<a href=\"https://colab.research.google.com/github/GabrielRozendoPontes/Unoeste/blob/main/datascience.ipynb\" target=\"_parent\"><img src=\"https://colab.research.google.com/assets/colab-badge.svg\" alt=\"Open In Colab\"/></a>"
      ]
    },
    {
      "cell_type": "code",
      "execution_count": 4,
      "metadata": {
        "colab": {
          "base_uri": "https://localhost:8080/"
        },
        "id": "rjaO42B4IvkP",
        "outputId": "9932757f-8d79-4f88-9437-d5f67670b883"
      },
      "outputs": [
        {
          "output_type": "stream",
          "name": "stdout",
          "text": [
            "[1] 10 20 55  9 19\n"
          ]
        }
      ],
      "source": [
        "x <- c(10,20,55,9,19)\n",
        "print(x)"
      ]
    },
    {
      "cell_type": "code",
      "source": [
        "x[2:5]"
      ],
      "metadata": {
        "colab": {
          "base_uri": "https://localhost:8080/",
          "height": 34
        },
        "id": "Iwy13vw9Jkv_",
        "outputId": "b41ff015-c039-49a6-a19f-b90da6996918"
      },
      "execution_count": 6,
      "outputs": [
        {
          "output_type": "display_data",
          "data": {
            "text/html": [
              "<style>\n",
              ".list-inline {list-style: none; margin:0; padding: 0}\n",
              ".list-inline>li {display: inline-block}\n",
              ".list-inline>li:not(:last-child)::after {content: \"\\00b7\"; padding: 0 .5ex}\n",
              "</style>\n",
              "<ol class=list-inline><li>20</li><li>55</li><li>9</li><li>19</li></ol>\n"
            ],
            "text/markdown": "1. 20\n2. 55\n3. 9\n4. 19\n\n\n",
            "text/latex": "\\begin{enumerate*}\n\\item 20\n\\item 55\n\\item 9\n\\item 19\n\\end{enumerate*}\n",
            "text/plain": [
              "[1] 20 55  9 19"
            ]
          },
          "metadata": {}
        }
      ]
    },
    {
      "cell_type": "code",
      "source": [
        "max(x)"
      ],
      "metadata": {
        "colab": {
          "base_uri": "https://localhost:8080/",
          "height": 34
        },
        "id": "aailz-dEJ4Hf",
        "outputId": "d3a96a5c-1679-4bea-90ac-c498d3f17330"
      },
      "execution_count": 8,
      "outputs": [
        {
          "output_type": "display_data",
          "data": {
            "text/html": [
              "55"
            ],
            "text/markdown": "55",
            "text/latex": "55",
            "text/plain": [
              "[1] 55"
            ]
          },
          "metadata": {}
        }
      ]
    },
    {
      "cell_type": "code",
      "source": [
        "x^2"
      ],
      "metadata": {
        "colab": {
          "base_uri": "https://localhost:8080/",
          "height": 34
        },
        "id": "rzEdLtyeJ9o4",
        "outputId": "0ea114c8-147e-498b-9708-3245de2e860b"
      },
      "execution_count": 9,
      "outputs": [
        {
          "output_type": "display_data",
          "data": {
            "text/html": [
              "<style>\n",
              ".list-inline {list-style: none; margin:0; padding: 0}\n",
              ".list-inline>li {display: inline-block}\n",
              ".list-inline>li:not(:last-child)::after {content: \"\\00b7\"; padding: 0 .5ex}\n",
              "</style>\n",
              "<ol class=list-inline><li>100</li><li>400</li><li>3025</li><li>81</li><li>361</li></ol>\n"
            ],
            "text/markdown": "1. 100\n2. 400\n3. 3025\n4. 81\n5. 361\n\n\n",
            "text/latex": "\\begin{enumerate*}\n\\item 100\n\\item 400\n\\item 3025\n\\item 81\n\\item 361\n\\end{enumerate*}\n",
            "text/plain": [
              "[1]  100  400 3025   81  361"
            ]
          },
          "metadata": {}
        }
      ]
    },
    {
      "cell_type": "code",
      "source": [
        "which.max(x)"
      ],
      "metadata": {
        "colab": {
          "base_uri": "https://localhost:8080/",
          "height": 34
        },
        "id": "pqiqHXUYKHwe",
        "outputId": "24758d2a-8fb5-4e14-b43c-e837d633c18f"
      },
      "execution_count": 10,
      "outputs": [
        {
          "output_type": "display_data",
          "data": {
            "text/html": [
              "3"
            ],
            "text/markdown": "3",
            "text/latex": "3",
            "text/plain": [
              "[1] 3"
            ]
          },
          "metadata": {}
        }
      ]
    },
    {
      "cell_type": "code",
      "source": [
        "dados <- read.csv(\"filmes.csv\")"
      ],
      "metadata": {
        "id": "JWZlALG-Kdtg"
      },
      "execution_count": 11,
      "outputs": []
    },
    {
      "cell_type": "code",
      "source": [
        "dados"
      ],
      "metadata": {
        "colab": {
          "base_uri": "https://localhost:8080/",
          "height": 1000
        },
        "id": "mjVjQYkHKptf",
        "outputId": "e21928e9-5938-4f6c-f6d9-53924049a349"
      },
      "execution_count": 13,
      "outputs": [
        {
          "output_type": "display_data",
          "data": {
            "text/html": [
              "<table class=\"dataframe\">\n",
              "<caption>A data.frame: 36 × 7</caption>\n",
              "<thead>\n",
              "\t<tr><th scope=col>Titulo</th><th scope=col>Producao</th><th scope=col>Classificacao</th><th scope=col>Gasto</th><th scope=col>Renda</th><th scope=col>Duracao</th><th scope=col>TaxaEspectadores</th></tr>\n",
              "\t<tr><th scope=col>&lt;chr&gt;</th><th scope=col>&lt;int&gt;</th><th scope=col>&lt;chr&gt;</th><th scope=col>&lt;dbl&gt;</th><th scope=col>&lt;dbl&gt;</th><th scope=col>&lt;int&gt;</th><th scope=col>&lt;dbl&gt;</th></tr>\n",
              "</thead>\n",
              "<tbody>\n",
              "\t<tr><td>Aliens                            </td><td>1986</td><td>R    </td><td> 18.500</td><td> 81.843</td><td>137</td><td>8.2</td></tr>\n",
              "\t<tr><td>Armageddon                        </td><td>1998</td><td>PG-13</td><td>140.000</td><td>194.125</td><td>144</td><td>6.7</td></tr>\n",
              "\t<tr><td>As Good As It Gets                </td><td>1997</td><td>PG-13</td><td> 50.000</td><td>147.540</td><td>138</td><td>8.1</td></tr>\n",
              "\t<tr><td>Braveheart                        </td><td>1995</td><td>R    </td><td> 72.000</td><td> 75.600</td><td>177</td><td>8.3</td></tr>\n",
              "\t<tr><td>Chasing Amy                       </td><td>1997</td><td>R    </td><td>  0.250</td><td> 12.006</td><td>105</td><td>7.9</td></tr>\n",
              "\t<tr><td>Contact                           </td><td>1997</td><td>PG   </td><td> 90.000</td><td>100.853</td><td>153</td><td>8.3</td></tr>\n",
              "\t<tr><td>Dante's Peak                      </td><td>1997</td><td>PG-13</td><td>104.000</td><td> 67.155</td><td>112</td><td>6.7</td></tr>\n",
              "\t<tr><td>Deep Impact                       </td><td>1998</td><td>PG-13</td><td> 75.000</td><td>140.424</td><td>120</td><td>6.4</td></tr>\n",
              "\t<tr><td>Executive Decision                </td><td>1996</td><td>R    </td><td> 55.000</td><td> 68.750</td><td>129</td><td>7.3</td></tr>\n",
              "\t<tr><td>Forrest Gump                      </td><td>1994</td><td>PG-13</td><td> 55.000</td><td>329.691</td><td>142</td><td>7.7</td></tr>\n",
              "\t<tr><td>Ghost                             </td><td>1990</td><td>PG-13</td><td> 22.000</td><td>217.631</td><td>128</td><td>7.1</td></tr>\n",
              "\t<tr><td>Gone with the Wind                </td><td>1939</td><td>G    </td><td>  3.900</td><td>198.571</td><td>222</td><td>8.0</td></tr>\n",
              "\t<tr><td>Good Will Hunting                 </td><td>1997</td><td>R    </td><td> 10.000</td><td>138.339</td><td>126</td><td>8.5</td></tr>\n",
              "\t<tr><td>Grease                            </td><td>1978</td><td>PG   </td><td>  6.000</td><td>181.280</td><td>110</td><td>7.3</td></tr>\n",
              "\t<tr><td>Halloween                         </td><td>1978</td><td>R    </td><td>  0.325</td><td> 47.000</td><td> 93</td><td>7.7</td></tr>\n",
              "\t<tr><td>Hard Rain                         </td><td>1998</td><td>R    </td><td> 70.000</td><td> 19.819</td><td> 95</td><td>5.2</td></tr>\n",
              "\t<tr><td>I Know What You Did Last Summer   </td><td>1997</td><td>R    </td><td> 17.000</td><td> 72.219</td><td>100</td><td>6.5</td></tr>\n",
              "\t<tr><td>Independence Day                  </td><td>1996</td><td>PG-13</td><td> 75.000</td><td>306.124</td><td>142</td><td>6.6</td></tr>\n",
              "\t<tr><td>Indiana Jones and the Last Crusade</td><td>1989</td><td>PG-13</td><td> 39.000</td><td>197.171</td><td>127</td><td>7.8</td></tr>\n",
              "\t<tr><td>Jaws                              </td><td>1975</td><td>PG   </td><td> 12.000</td><td>260.000</td><td>124</td><td>7.8</td></tr>\n",
              "\t<tr><td>Men in Black                      </td><td>1997</td><td>PG-13</td><td> 90.000</td><td>250.147</td><td> 98</td><td>7.4</td></tr>\n",
              "\t<tr><td>Multiplicity                      </td><td>1996</td><td>PG-13</td><td> 45.000</td><td> 20.100</td><td>117</td><td>6.8</td></tr>\n",
              "\t<tr><td>Pulp Fiction                      </td><td>1994</td><td>R    </td><td>  8.000</td><td>107.930</td><td>154</td><td>8.3</td></tr>\n",
              "\t<tr><td>Raiders of the Lost Ark           </td><td>1981</td><td>PG   </td><td> 20.000</td><td>242.374</td><td>115</td><td>8.3</td></tr>\n",
              "\t<tr><td>Saving Private ryan               </td><td>1998</td><td>R    </td><td> 70.000</td><td>178.091</td><td>170</td><td>9.1</td></tr>\n",
              "\t<tr><td>Schindler's List                  </td><td>1993</td><td>R    </td><td> 25.000</td><td> 96.067</td><td>197</td><td>8.6</td></tr>\n",
              "\t<tr><td>Scream                            </td><td>1996</td><td>R    </td><td> 15.000</td><td>103.001</td><td>111</td><td>7.7</td></tr>\n",
              "\t<tr><td>Speed 2:Cruise Control            </td><td>1997</td><td>PG-13</td><td>110.000</td><td> 48.068</td><td>121</td><td>4.3</td></tr>\n",
              "\t<tr><td>Terminator                        </td><td>1984</td><td>R    </td><td>  6.400</td><td> 36.900</td><td>108</td><td>7.7</td></tr>\n",
              "\t<tr><td>The American President            </td><td>1995</td><td>PG-13</td><td> 62.000</td><td> 65.000</td><td>114</td><td>7.6</td></tr>\n",
              "\t<tr><td>The Fifth Element                 </td><td>1997</td><td>PG-13</td><td> 90.000</td><td> 63.540</td><td>126</td><td>7.8</td></tr>\n",
              "\t<tr><td>The Game                          </td><td>1997</td><td>R    </td><td> 50.000</td><td> 48.265</td><td>128</td><td>7.6</td></tr>\n",
              "\t<tr><td>The Man in the Iron Mask          </td><td>1998</td><td>PG-13</td><td> 35.000</td><td> 56.876</td><td>132</td><td>6.5</td></tr>\n",
              "\t<tr><td>Titanic                           </td><td>1997</td><td>PG-13</td><td>200.000</td><td>600.743</td><td>195</td><td>8.4</td></tr>\n",
              "\t<tr><td>True Lies                         </td><td>1994</td><td>R    </td><td>100.000</td><td>146.261</td><td>144</td><td>7.2</td></tr>\n",
              "\t<tr><td>Volcano                           </td><td>1997</td><td>PG-13</td><td> 90.000</td><td> 47.474</td><td>102</td><td>5.8</td></tr>\n",
              "</tbody>\n",
              "</table>\n"
            ],
            "text/markdown": "\nA data.frame: 36 × 7\n\n| Titulo &lt;chr&gt; | Producao &lt;int&gt; | Classificacao &lt;chr&gt; | Gasto &lt;dbl&gt; | Renda &lt;dbl&gt; | Duracao &lt;int&gt; | TaxaEspectadores &lt;dbl&gt; |\n|---|---|---|---|---|---|---|\n| Aliens                             | 1986 | R     |  18.500 |  81.843 | 137 | 8.2 |\n| Armageddon                         | 1998 | PG-13 | 140.000 | 194.125 | 144 | 6.7 |\n| As Good As It Gets                 | 1997 | PG-13 |  50.000 | 147.540 | 138 | 8.1 |\n| Braveheart                         | 1995 | R     |  72.000 |  75.600 | 177 | 8.3 |\n| Chasing Amy                        | 1997 | R     |   0.250 |  12.006 | 105 | 7.9 |\n| Contact                            | 1997 | PG    |  90.000 | 100.853 | 153 | 8.3 |\n| Dante's Peak                       | 1997 | PG-13 | 104.000 |  67.155 | 112 | 6.7 |\n| Deep Impact                        | 1998 | PG-13 |  75.000 | 140.424 | 120 | 6.4 |\n| Executive Decision                 | 1996 | R     |  55.000 |  68.750 | 129 | 7.3 |\n| Forrest Gump                       | 1994 | PG-13 |  55.000 | 329.691 | 142 | 7.7 |\n| Ghost                              | 1990 | PG-13 |  22.000 | 217.631 | 128 | 7.1 |\n| Gone with the Wind                 | 1939 | G     |   3.900 | 198.571 | 222 | 8.0 |\n| Good Will Hunting                  | 1997 | R     |  10.000 | 138.339 | 126 | 8.5 |\n| Grease                             | 1978 | PG    |   6.000 | 181.280 | 110 | 7.3 |\n| Halloween                          | 1978 | R     |   0.325 |  47.000 |  93 | 7.7 |\n| Hard Rain                          | 1998 | R     |  70.000 |  19.819 |  95 | 5.2 |\n| I Know What You Did Last Summer    | 1997 | R     |  17.000 |  72.219 | 100 | 6.5 |\n| Independence Day                   | 1996 | PG-13 |  75.000 | 306.124 | 142 | 6.6 |\n| Indiana Jones and the Last Crusade | 1989 | PG-13 |  39.000 | 197.171 | 127 | 7.8 |\n| Jaws                               | 1975 | PG    |  12.000 | 260.000 | 124 | 7.8 |\n| Men in Black                       | 1997 | PG-13 |  90.000 | 250.147 |  98 | 7.4 |\n| Multiplicity                       | 1996 | PG-13 |  45.000 |  20.100 | 117 | 6.8 |\n| Pulp Fiction                       | 1994 | R     |   8.000 | 107.930 | 154 | 8.3 |\n| Raiders of the Lost Ark            | 1981 | PG    |  20.000 | 242.374 | 115 | 8.3 |\n| Saving Private ryan                | 1998 | R     |  70.000 | 178.091 | 170 | 9.1 |\n| Schindler's List                   | 1993 | R     |  25.000 |  96.067 | 197 | 8.6 |\n| Scream                             | 1996 | R     |  15.000 | 103.001 | 111 | 7.7 |\n| Speed 2:Cruise Control             | 1997 | PG-13 | 110.000 |  48.068 | 121 | 4.3 |\n| Terminator                         | 1984 | R     |   6.400 |  36.900 | 108 | 7.7 |\n| The American President             | 1995 | PG-13 |  62.000 |  65.000 | 114 | 7.6 |\n| The Fifth Element                  | 1997 | PG-13 |  90.000 |  63.540 | 126 | 7.8 |\n| The Game                           | 1997 | R     |  50.000 |  48.265 | 128 | 7.6 |\n| The Man in the Iron Mask           | 1998 | PG-13 |  35.000 |  56.876 | 132 | 6.5 |\n| Titanic                            | 1997 | PG-13 | 200.000 | 600.743 | 195 | 8.4 |\n| True Lies                          | 1994 | R     | 100.000 | 146.261 | 144 | 7.2 |\n| Volcano                            | 1997 | PG-13 |  90.000 |  47.474 | 102 | 5.8 |\n\n",
            "text/latex": "A data.frame: 36 × 7\n\\begin{tabular}{lllllll}\n Titulo & Producao & Classificacao & Gasto & Renda & Duracao & TaxaEspectadores\\\\\n <chr> & <int> & <chr> & <dbl> & <dbl> & <int> & <dbl>\\\\\n\\hline\n\t Aliens                             & 1986 & R     &  18.500 &  81.843 & 137 & 8.2\\\\\n\t Armageddon                         & 1998 & PG-13 & 140.000 & 194.125 & 144 & 6.7\\\\\n\t As Good As It Gets                 & 1997 & PG-13 &  50.000 & 147.540 & 138 & 8.1\\\\\n\t Braveheart                         & 1995 & R     &  72.000 &  75.600 & 177 & 8.3\\\\\n\t Chasing Amy                        & 1997 & R     &   0.250 &  12.006 & 105 & 7.9\\\\\n\t Contact                            & 1997 & PG    &  90.000 & 100.853 & 153 & 8.3\\\\\n\t Dante's Peak                       & 1997 & PG-13 & 104.000 &  67.155 & 112 & 6.7\\\\\n\t Deep Impact                        & 1998 & PG-13 &  75.000 & 140.424 & 120 & 6.4\\\\\n\t Executive Decision                 & 1996 & R     &  55.000 &  68.750 & 129 & 7.3\\\\\n\t Forrest Gump                       & 1994 & PG-13 &  55.000 & 329.691 & 142 & 7.7\\\\\n\t Ghost                              & 1990 & PG-13 &  22.000 & 217.631 & 128 & 7.1\\\\\n\t Gone with the Wind                 & 1939 & G     &   3.900 & 198.571 & 222 & 8.0\\\\\n\t Good Will Hunting                  & 1997 & R     &  10.000 & 138.339 & 126 & 8.5\\\\\n\t Grease                             & 1978 & PG    &   6.000 & 181.280 & 110 & 7.3\\\\\n\t Halloween                          & 1978 & R     &   0.325 &  47.000 &  93 & 7.7\\\\\n\t Hard Rain                          & 1998 & R     &  70.000 &  19.819 &  95 & 5.2\\\\\n\t I Know What You Did Last Summer    & 1997 & R     &  17.000 &  72.219 & 100 & 6.5\\\\\n\t Independence Day                   & 1996 & PG-13 &  75.000 & 306.124 & 142 & 6.6\\\\\n\t Indiana Jones and the Last Crusade & 1989 & PG-13 &  39.000 & 197.171 & 127 & 7.8\\\\\n\t Jaws                               & 1975 & PG    &  12.000 & 260.000 & 124 & 7.8\\\\\n\t Men in Black                       & 1997 & PG-13 &  90.000 & 250.147 &  98 & 7.4\\\\\n\t Multiplicity                       & 1996 & PG-13 &  45.000 &  20.100 & 117 & 6.8\\\\\n\t Pulp Fiction                       & 1994 & R     &   8.000 & 107.930 & 154 & 8.3\\\\\n\t Raiders of the Lost Ark            & 1981 & PG    &  20.000 & 242.374 & 115 & 8.3\\\\\n\t Saving Private ryan                & 1998 & R     &  70.000 & 178.091 & 170 & 9.1\\\\\n\t Schindler's List                   & 1993 & R     &  25.000 &  96.067 & 197 & 8.6\\\\\n\t Scream                             & 1996 & R     &  15.000 & 103.001 & 111 & 7.7\\\\\n\t Speed 2:Cruise Control             & 1997 & PG-13 & 110.000 &  48.068 & 121 & 4.3\\\\\n\t Terminator                         & 1984 & R     &   6.400 &  36.900 & 108 & 7.7\\\\\n\t The American President             & 1995 & PG-13 &  62.000 &  65.000 & 114 & 7.6\\\\\n\t The Fifth Element                  & 1997 & PG-13 &  90.000 &  63.540 & 126 & 7.8\\\\\n\t The Game                           & 1997 & R     &  50.000 &  48.265 & 128 & 7.6\\\\\n\t The Man in the Iron Mask           & 1998 & PG-13 &  35.000 &  56.876 & 132 & 6.5\\\\\n\t Titanic                            & 1997 & PG-13 & 200.000 & 600.743 & 195 & 8.4\\\\\n\t True Lies                          & 1994 & R     & 100.000 & 146.261 & 144 & 7.2\\\\\n\t Volcano                            & 1997 & PG-13 &  90.000 &  47.474 & 102 & 5.8\\\\\n\\end{tabular}\n",
            "text/plain": [
              "   Titulo                             Producao Classificacao Gasto   Renda  \n",
              "1  Aliens                             1986     R              18.500  81.843\n",
              "2  Armageddon                         1998     PG-13         140.000 194.125\n",
              "3  As Good As It Gets                 1997     PG-13          50.000 147.540\n",
              "4  Braveheart                         1995     R              72.000  75.600\n",
              "5  Chasing Amy                        1997     R               0.250  12.006\n",
              "6  Contact                            1997     PG             90.000 100.853\n",
              "7  Dante's Peak                       1997     PG-13         104.000  67.155\n",
              "8  Deep Impact                        1998     PG-13          75.000 140.424\n",
              "9  Executive Decision                 1996     R              55.000  68.750\n",
              "10 Forrest Gump                       1994     PG-13          55.000 329.691\n",
              "11 Ghost                              1990     PG-13          22.000 217.631\n",
              "12 Gone with the Wind                 1939     G               3.900 198.571\n",
              "13 Good Will Hunting                  1997     R              10.000 138.339\n",
              "14 Grease                             1978     PG              6.000 181.280\n",
              "15 Halloween                          1978     R               0.325  47.000\n",
              "16 Hard Rain                          1998     R              70.000  19.819\n",
              "17 I Know What You Did Last Summer    1997     R              17.000  72.219\n",
              "18 Independence Day                   1996     PG-13          75.000 306.124\n",
              "19 Indiana Jones and the Last Crusade 1989     PG-13          39.000 197.171\n",
              "20 Jaws                               1975     PG             12.000 260.000\n",
              "21 Men in Black                       1997     PG-13          90.000 250.147\n",
              "22 Multiplicity                       1996     PG-13          45.000  20.100\n",
              "23 Pulp Fiction                       1994     R               8.000 107.930\n",
              "24 Raiders of the Lost Ark            1981     PG             20.000 242.374\n",
              "25 Saving Private ryan                1998     R              70.000 178.091\n",
              "26 Schindler's List                   1993     R              25.000  96.067\n",
              "27 Scream                             1996     R              15.000 103.001\n",
              "28 Speed 2:Cruise Control             1997     PG-13         110.000  48.068\n",
              "29 Terminator                         1984     R               6.400  36.900\n",
              "30 The American President             1995     PG-13          62.000  65.000\n",
              "31 The Fifth Element                  1997     PG-13          90.000  63.540\n",
              "32 The Game                           1997     R              50.000  48.265\n",
              "33 The Man in the Iron Mask           1998     PG-13          35.000  56.876\n",
              "34 Titanic                            1997     PG-13         200.000 600.743\n",
              "35 True Lies                          1994     R             100.000 146.261\n",
              "36 Volcano                            1997     PG-13          90.000  47.474\n",
              "   Duracao TaxaEspectadores\n",
              "1  137     8.2             \n",
              "2  144     6.7             \n",
              "3  138     8.1             \n",
              "4  177     8.3             \n",
              "5  105     7.9             \n",
              "6  153     8.3             \n",
              "7  112     6.7             \n",
              "8  120     6.4             \n",
              "9  129     7.3             \n",
              "10 142     7.7             \n",
              "11 128     7.1             \n",
              "12 222     8.0             \n",
              "13 126     8.5             \n",
              "14 110     7.3             \n",
              "15  93     7.7             \n",
              "16  95     5.2             \n",
              "17 100     6.5             \n",
              "18 142     6.6             \n",
              "19 127     7.8             \n",
              "20 124     7.8             \n",
              "21  98     7.4             \n",
              "22 117     6.8             \n",
              "23 154     8.3             \n",
              "24 115     8.3             \n",
              "25 170     9.1             \n",
              "26 197     8.6             \n",
              "27 111     7.7             \n",
              "28 121     4.3             \n",
              "29 108     7.7             \n",
              "30 114     7.6             \n",
              "31 126     7.8             \n",
              "32 128     7.6             \n",
              "33 132     6.5             \n",
              "34 195     8.4             \n",
              "35 144     7.2             \n",
              "36 102     5.8             "
            ]
          },
          "metadata": {}
        }
      ]
    },
    {
      "cell_type": "code",
      "source": [
        "dados$Renda"
      ],
      "metadata": {
        "colab": {
          "base_uri": "https://localhost:8080/",
          "height": 52
        },
        "id": "Y9zoaESpLHFn",
        "outputId": "b7feda6a-b847-414f-b42a-09ee50c14eed"
      },
      "execution_count": 14,
      "outputs": [
        {
          "output_type": "display_data",
          "data": {
            "text/html": [
              "<style>\n",
              ".list-inline {list-style: none; margin:0; padding: 0}\n",
              ".list-inline>li {display: inline-block}\n",
              ".list-inline>li:not(:last-child)::after {content: \"\\00b7\"; padding: 0 .5ex}\n",
              "</style>\n",
              "<ol class=list-inline><li>81.843</li><li>194.125</li><li>147.54</li><li>75.6</li><li>12.006</li><li>100.853</li><li>67.155</li><li>140.424</li><li>68.75</li><li>329.691</li><li>217.631</li><li>198.571</li><li>138.339</li><li>181.28</li><li>47</li><li>19.819</li><li>72.219</li><li>306.124</li><li>197.171</li><li>260</li><li>250.147</li><li>20.1</li><li>107.93</li><li>242.374</li><li>178.091</li><li>96.067</li><li>103.001</li><li>48.068</li><li>36.9</li><li>65</li><li>63.54</li><li>48.265</li><li>56.876</li><li>600.743</li><li>146.261</li><li>47.474</li></ol>\n"
            ],
            "text/markdown": "1. 81.843\n2. 194.125\n3. 147.54\n4. 75.6\n5. 12.006\n6. 100.853\n7. 67.155\n8. 140.424\n9. 68.75\n10. 329.691\n11. 217.631\n12. 198.571\n13. 138.339\n14. 181.28\n15. 47\n16. 19.819\n17. 72.219\n18. 306.124\n19. 197.171\n20. 260\n21. 250.147\n22. 20.1\n23. 107.93\n24. 242.374\n25. 178.091\n26. 96.067\n27. 103.001\n28. 48.068\n29. 36.9\n30. 65\n31. 63.54\n32. 48.265\n33. 56.876\n34. 600.743\n35. 146.261\n36. 47.474\n\n\n",
            "text/latex": "\\begin{enumerate*}\n\\item 81.843\n\\item 194.125\n\\item 147.54\n\\item 75.6\n\\item 12.006\n\\item 100.853\n\\item 67.155\n\\item 140.424\n\\item 68.75\n\\item 329.691\n\\item 217.631\n\\item 198.571\n\\item 138.339\n\\item 181.28\n\\item 47\n\\item 19.819\n\\item 72.219\n\\item 306.124\n\\item 197.171\n\\item 260\n\\item 250.147\n\\item 20.1\n\\item 107.93\n\\item 242.374\n\\item 178.091\n\\item 96.067\n\\item 103.001\n\\item 48.068\n\\item 36.9\n\\item 65\n\\item 63.54\n\\item 48.265\n\\item 56.876\n\\item 600.743\n\\item 146.261\n\\item 47.474\n\\end{enumerate*}\n",
            "text/plain": [
              " [1]  81.843 194.125 147.540  75.600  12.006 100.853  67.155 140.424  68.750\n",
              "[10] 329.691 217.631 198.571 138.339 181.280  47.000  19.819  72.219 306.124\n",
              "[19] 197.171 260.000 250.147  20.100 107.930 242.374 178.091  96.067 103.001\n",
              "[28]  48.068  36.900  65.000  63.540  48.265  56.876 600.743 146.261  47.474"
            ]
          },
          "metadata": {}
        }
      ]
    },
    {
      "cell_type": "code",
      "source": [
        "Lucro <- dados$Renda - dados$Gasto"
      ],
      "metadata": {
        "id": "Fb1hjnSxLP7_"
      },
      "execution_count": 15,
      "outputs": []
    },
    {
      "cell_type": "code",
      "source": [
        "head(Lucro)"
      ],
      "metadata": {
        "colab": {
          "base_uri": "https://localhost:8080/",
          "height": 34
        },
        "id": "InE3T4H7Lc4P",
        "outputId": "71659407-be0e-40e9-dbda-d951ef6b32e1"
      },
      "execution_count": 16,
      "outputs": [
        {
          "output_type": "display_data",
          "data": {
            "text/html": [
              "<style>\n",
              ".list-inline {list-style: none; margin:0; padding: 0}\n",
              ".list-inline>li {display: inline-block}\n",
              ".list-inline>li:not(:last-child)::after {content: \"\\00b7\"; padding: 0 .5ex}\n",
              "</style>\n",
              "<ol class=list-inline><li>63.343</li><li>54.125</li><li>97.54</li><li>3.59999999999999</li><li>11.756</li><li>10.853</li></ol>\n"
            ],
            "text/markdown": "1. 63.343\n2. 54.125\n3. 97.54\n4. 3.59999999999999\n5. 11.756\n6. 10.853\n\n\n",
            "text/latex": "\\begin{enumerate*}\n\\item 63.343\n\\item 54.125\n\\item 97.54\n\\item 3.59999999999999\n\\item 11.756\n\\item 10.853\n\\end{enumerate*}\n",
            "text/plain": [
              "[1] 63.343 54.125 97.540  3.600 11.756 10.853"
            ]
          },
          "metadata": {}
        }
      ]
    },
    {
      "cell_type": "code",
      "source": [
        "dadosLucro <- cbind(dados, Lucro)"
      ],
      "metadata": {
        "id": "_KLcbpymL89_"
      },
      "execution_count": 17,
      "outputs": []
    },
    {
      "cell_type": "code",
      "source": [
        "dadosLucro"
      ],
      "metadata": {
        "colab": {
          "base_uri": "https://localhost:8080/",
          "height": 1000
        },
        "id": "wLzF35l3MZy_",
        "outputId": "2fb9accb-d4b3-4ec9-a00c-ffe705e0f735"
      },
      "execution_count": 18,
      "outputs": [
        {
          "output_type": "display_data",
          "data": {
            "text/html": [
              "<table class=\"dataframe\">\n",
              "<caption>A data.frame: 36 × 8</caption>\n",
              "<thead>\n",
              "\t<tr><th scope=col>Titulo</th><th scope=col>Producao</th><th scope=col>Classificacao</th><th scope=col>Gasto</th><th scope=col>Renda</th><th scope=col>Duracao</th><th scope=col>TaxaEspectadores</th><th scope=col>Lucro</th></tr>\n",
              "\t<tr><th scope=col>&lt;chr&gt;</th><th scope=col>&lt;int&gt;</th><th scope=col>&lt;chr&gt;</th><th scope=col>&lt;dbl&gt;</th><th scope=col>&lt;dbl&gt;</th><th scope=col>&lt;int&gt;</th><th scope=col>&lt;dbl&gt;</th><th scope=col>&lt;dbl&gt;</th></tr>\n",
              "</thead>\n",
              "<tbody>\n",
              "\t<tr><td>Aliens                            </td><td>1986</td><td>R    </td><td> 18.500</td><td> 81.843</td><td>137</td><td>8.2</td><td> 63.343</td></tr>\n",
              "\t<tr><td>Armageddon                        </td><td>1998</td><td>PG-13</td><td>140.000</td><td>194.125</td><td>144</td><td>6.7</td><td> 54.125</td></tr>\n",
              "\t<tr><td>As Good As It Gets                </td><td>1997</td><td>PG-13</td><td> 50.000</td><td>147.540</td><td>138</td><td>8.1</td><td> 97.540</td></tr>\n",
              "\t<tr><td>Braveheart                        </td><td>1995</td><td>R    </td><td> 72.000</td><td> 75.600</td><td>177</td><td>8.3</td><td>  3.600</td></tr>\n",
              "\t<tr><td>Chasing Amy                       </td><td>1997</td><td>R    </td><td>  0.250</td><td> 12.006</td><td>105</td><td>7.9</td><td> 11.756</td></tr>\n",
              "\t<tr><td>Contact                           </td><td>1997</td><td>PG   </td><td> 90.000</td><td>100.853</td><td>153</td><td>8.3</td><td> 10.853</td></tr>\n",
              "\t<tr><td>Dante's Peak                      </td><td>1997</td><td>PG-13</td><td>104.000</td><td> 67.155</td><td>112</td><td>6.7</td><td>-36.845</td></tr>\n",
              "\t<tr><td>Deep Impact                       </td><td>1998</td><td>PG-13</td><td> 75.000</td><td>140.424</td><td>120</td><td>6.4</td><td> 65.424</td></tr>\n",
              "\t<tr><td>Executive Decision                </td><td>1996</td><td>R    </td><td> 55.000</td><td> 68.750</td><td>129</td><td>7.3</td><td> 13.750</td></tr>\n",
              "\t<tr><td>Forrest Gump                      </td><td>1994</td><td>PG-13</td><td> 55.000</td><td>329.691</td><td>142</td><td>7.7</td><td>274.691</td></tr>\n",
              "\t<tr><td>Ghost                             </td><td>1990</td><td>PG-13</td><td> 22.000</td><td>217.631</td><td>128</td><td>7.1</td><td>195.631</td></tr>\n",
              "\t<tr><td>Gone with the Wind                </td><td>1939</td><td>G    </td><td>  3.900</td><td>198.571</td><td>222</td><td>8.0</td><td>194.671</td></tr>\n",
              "\t<tr><td>Good Will Hunting                 </td><td>1997</td><td>R    </td><td> 10.000</td><td>138.339</td><td>126</td><td>8.5</td><td>128.339</td></tr>\n",
              "\t<tr><td>Grease                            </td><td>1978</td><td>PG   </td><td>  6.000</td><td>181.280</td><td>110</td><td>7.3</td><td>175.280</td></tr>\n",
              "\t<tr><td>Halloween                         </td><td>1978</td><td>R    </td><td>  0.325</td><td> 47.000</td><td> 93</td><td>7.7</td><td> 46.675</td></tr>\n",
              "\t<tr><td>Hard Rain                         </td><td>1998</td><td>R    </td><td> 70.000</td><td> 19.819</td><td> 95</td><td>5.2</td><td>-50.181</td></tr>\n",
              "\t<tr><td>I Know What You Did Last Summer   </td><td>1997</td><td>R    </td><td> 17.000</td><td> 72.219</td><td>100</td><td>6.5</td><td> 55.219</td></tr>\n",
              "\t<tr><td>Independence Day                  </td><td>1996</td><td>PG-13</td><td> 75.000</td><td>306.124</td><td>142</td><td>6.6</td><td>231.124</td></tr>\n",
              "\t<tr><td>Indiana Jones and the Last Crusade</td><td>1989</td><td>PG-13</td><td> 39.000</td><td>197.171</td><td>127</td><td>7.8</td><td>158.171</td></tr>\n",
              "\t<tr><td>Jaws                              </td><td>1975</td><td>PG   </td><td> 12.000</td><td>260.000</td><td>124</td><td>7.8</td><td>248.000</td></tr>\n",
              "\t<tr><td>Men in Black                      </td><td>1997</td><td>PG-13</td><td> 90.000</td><td>250.147</td><td> 98</td><td>7.4</td><td>160.147</td></tr>\n",
              "\t<tr><td>Multiplicity                      </td><td>1996</td><td>PG-13</td><td> 45.000</td><td> 20.100</td><td>117</td><td>6.8</td><td>-24.900</td></tr>\n",
              "\t<tr><td>Pulp Fiction                      </td><td>1994</td><td>R    </td><td>  8.000</td><td>107.930</td><td>154</td><td>8.3</td><td> 99.930</td></tr>\n",
              "\t<tr><td>Raiders of the Lost Ark           </td><td>1981</td><td>PG   </td><td> 20.000</td><td>242.374</td><td>115</td><td>8.3</td><td>222.374</td></tr>\n",
              "\t<tr><td>Saving Private ryan               </td><td>1998</td><td>R    </td><td> 70.000</td><td>178.091</td><td>170</td><td>9.1</td><td>108.091</td></tr>\n",
              "\t<tr><td>Schindler's List                  </td><td>1993</td><td>R    </td><td> 25.000</td><td> 96.067</td><td>197</td><td>8.6</td><td> 71.067</td></tr>\n",
              "\t<tr><td>Scream                            </td><td>1996</td><td>R    </td><td> 15.000</td><td>103.001</td><td>111</td><td>7.7</td><td> 88.001</td></tr>\n",
              "\t<tr><td>Speed 2:Cruise Control            </td><td>1997</td><td>PG-13</td><td>110.000</td><td> 48.068</td><td>121</td><td>4.3</td><td>-61.932</td></tr>\n",
              "\t<tr><td>Terminator                        </td><td>1984</td><td>R    </td><td>  6.400</td><td> 36.900</td><td>108</td><td>7.7</td><td> 30.500</td></tr>\n",
              "\t<tr><td>The American President            </td><td>1995</td><td>PG-13</td><td> 62.000</td><td> 65.000</td><td>114</td><td>7.6</td><td>  3.000</td></tr>\n",
              "\t<tr><td>The Fifth Element                 </td><td>1997</td><td>PG-13</td><td> 90.000</td><td> 63.540</td><td>126</td><td>7.8</td><td>-26.460</td></tr>\n",
              "\t<tr><td>The Game                          </td><td>1997</td><td>R    </td><td> 50.000</td><td> 48.265</td><td>128</td><td>7.6</td><td> -1.735</td></tr>\n",
              "\t<tr><td>The Man in the Iron Mask          </td><td>1998</td><td>PG-13</td><td> 35.000</td><td> 56.876</td><td>132</td><td>6.5</td><td> 21.876</td></tr>\n",
              "\t<tr><td>Titanic                           </td><td>1997</td><td>PG-13</td><td>200.000</td><td>600.743</td><td>195</td><td>8.4</td><td>400.743</td></tr>\n",
              "\t<tr><td>True Lies                         </td><td>1994</td><td>R    </td><td>100.000</td><td>146.261</td><td>144</td><td>7.2</td><td> 46.261</td></tr>\n",
              "\t<tr><td>Volcano                           </td><td>1997</td><td>PG-13</td><td> 90.000</td><td> 47.474</td><td>102</td><td>5.8</td><td>-42.526</td></tr>\n",
              "</tbody>\n",
              "</table>\n"
            ],
            "text/markdown": "\nA data.frame: 36 × 8\n\n| Titulo &lt;chr&gt; | Producao &lt;int&gt; | Classificacao &lt;chr&gt; | Gasto &lt;dbl&gt; | Renda &lt;dbl&gt; | Duracao &lt;int&gt; | TaxaEspectadores &lt;dbl&gt; | Lucro &lt;dbl&gt; |\n|---|---|---|---|---|---|---|---|\n| Aliens                             | 1986 | R     |  18.500 |  81.843 | 137 | 8.2 |  63.343 |\n| Armageddon                         | 1998 | PG-13 | 140.000 | 194.125 | 144 | 6.7 |  54.125 |\n| As Good As It Gets                 | 1997 | PG-13 |  50.000 | 147.540 | 138 | 8.1 |  97.540 |\n| Braveheart                         | 1995 | R     |  72.000 |  75.600 | 177 | 8.3 |   3.600 |\n| Chasing Amy                        | 1997 | R     |   0.250 |  12.006 | 105 | 7.9 |  11.756 |\n| Contact                            | 1997 | PG    |  90.000 | 100.853 | 153 | 8.3 |  10.853 |\n| Dante's Peak                       | 1997 | PG-13 | 104.000 |  67.155 | 112 | 6.7 | -36.845 |\n| Deep Impact                        | 1998 | PG-13 |  75.000 | 140.424 | 120 | 6.4 |  65.424 |\n| Executive Decision                 | 1996 | R     |  55.000 |  68.750 | 129 | 7.3 |  13.750 |\n| Forrest Gump                       | 1994 | PG-13 |  55.000 | 329.691 | 142 | 7.7 | 274.691 |\n| Ghost                              | 1990 | PG-13 |  22.000 | 217.631 | 128 | 7.1 | 195.631 |\n| Gone with the Wind                 | 1939 | G     |   3.900 | 198.571 | 222 | 8.0 | 194.671 |\n| Good Will Hunting                  | 1997 | R     |  10.000 | 138.339 | 126 | 8.5 | 128.339 |\n| Grease                             | 1978 | PG    |   6.000 | 181.280 | 110 | 7.3 | 175.280 |\n| Halloween                          | 1978 | R     |   0.325 |  47.000 |  93 | 7.7 |  46.675 |\n| Hard Rain                          | 1998 | R     |  70.000 |  19.819 |  95 | 5.2 | -50.181 |\n| I Know What You Did Last Summer    | 1997 | R     |  17.000 |  72.219 | 100 | 6.5 |  55.219 |\n| Independence Day                   | 1996 | PG-13 |  75.000 | 306.124 | 142 | 6.6 | 231.124 |\n| Indiana Jones and the Last Crusade | 1989 | PG-13 |  39.000 | 197.171 | 127 | 7.8 | 158.171 |\n| Jaws                               | 1975 | PG    |  12.000 | 260.000 | 124 | 7.8 | 248.000 |\n| Men in Black                       | 1997 | PG-13 |  90.000 | 250.147 |  98 | 7.4 | 160.147 |\n| Multiplicity                       | 1996 | PG-13 |  45.000 |  20.100 | 117 | 6.8 | -24.900 |\n| Pulp Fiction                       | 1994 | R     |   8.000 | 107.930 | 154 | 8.3 |  99.930 |\n| Raiders of the Lost Ark            | 1981 | PG    |  20.000 | 242.374 | 115 | 8.3 | 222.374 |\n| Saving Private ryan                | 1998 | R     |  70.000 | 178.091 | 170 | 9.1 | 108.091 |\n| Schindler's List                   | 1993 | R     |  25.000 |  96.067 | 197 | 8.6 |  71.067 |\n| Scream                             | 1996 | R     |  15.000 | 103.001 | 111 | 7.7 |  88.001 |\n| Speed 2:Cruise Control             | 1997 | PG-13 | 110.000 |  48.068 | 121 | 4.3 | -61.932 |\n| Terminator                         | 1984 | R     |   6.400 |  36.900 | 108 | 7.7 |  30.500 |\n| The American President             | 1995 | PG-13 |  62.000 |  65.000 | 114 | 7.6 |   3.000 |\n| The Fifth Element                  | 1997 | PG-13 |  90.000 |  63.540 | 126 | 7.8 | -26.460 |\n| The Game                           | 1997 | R     |  50.000 |  48.265 | 128 | 7.6 |  -1.735 |\n| The Man in the Iron Mask           | 1998 | PG-13 |  35.000 |  56.876 | 132 | 6.5 |  21.876 |\n| Titanic                            | 1997 | PG-13 | 200.000 | 600.743 | 195 | 8.4 | 400.743 |\n| True Lies                          | 1994 | R     | 100.000 | 146.261 | 144 | 7.2 |  46.261 |\n| Volcano                            | 1997 | PG-13 |  90.000 |  47.474 | 102 | 5.8 | -42.526 |\n\n",
            "text/latex": "A data.frame: 36 × 8\n\\begin{tabular}{llllllll}\n Titulo & Producao & Classificacao & Gasto & Renda & Duracao & TaxaEspectadores & Lucro\\\\\n <chr> & <int> & <chr> & <dbl> & <dbl> & <int> & <dbl> & <dbl>\\\\\n\\hline\n\t Aliens                             & 1986 & R     &  18.500 &  81.843 & 137 & 8.2 &  63.343\\\\\n\t Armageddon                         & 1998 & PG-13 & 140.000 & 194.125 & 144 & 6.7 &  54.125\\\\\n\t As Good As It Gets                 & 1997 & PG-13 &  50.000 & 147.540 & 138 & 8.1 &  97.540\\\\\n\t Braveheart                         & 1995 & R     &  72.000 &  75.600 & 177 & 8.3 &   3.600\\\\\n\t Chasing Amy                        & 1997 & R     &   0.250 &  12.006 & 105 & 7.9 &  11.756\\\\\n\t Contact                            & 1997 & PG    &  90.000 & 100.853 & 153 & 8.3 &  10.853\\\\\n\t Dante's Peak                       & 1997 & PG-13 & 104.000 &  67.155 & 112 & 6.7 & -36.845\\\\\n\t Deep Impact                        & 1998 & PG-13 &  75.000 & 140.424 & 120 & 6.4 &  65.424\\\\\n\t Executive Decision                 & 1996 & R     &  55.000 &  68.750 & 129 & 7.3 &  13.750\\\\\n\t Forrest Gump                       & 1994 & PG-13 &  55.000 & 329.691 & 142 & 7.7 & 274.691\\\\\n\t Ghost                              & 1990 & PG-13 &  22.000 & 217.631 & 128 & 7.1 & 195.631\\\\\n\t Gone with the Wind                 & 1939 & G     &   3.900 & 198.571 & 222 & 8.0 & 194.671\\\\\n\t Good Will Hunting                  & 1997 & R     &  10.000 & 138.339 & 126 & 8.5 & 128.339\\\\\n\t Grease                             & 1978 & PG    &   6.000 & 181.280 & 110 & 7.3 & 175.280\\\\\n\t Halloween                          & 1978 & R     &   0.325 &  47.000 &  93 & 7.7 &  46.675\\\\\n\t Hard Rain                          & 1998 & R     &  70.000 &  19.819 &  95 & 5.2 & -50.181\\\\\n\t I Know What You Did Last Summer    & 1997 & R     &  17.000 &  72.219 & 100 & 6.5 &  55.219\\\\\n\t Independence Day                   & 1996 & PG-13 &  75.000 & 306.124 & 142 & 6.6 & 231.124\\\\\n\t Indiana Jones and the Last Crusade & 1989 & PG-13 &  39.000 & 197.171 & 127 & 7.8 & 158.171\\\\\n\t Jaws                               & 1975 & PG    &  12.000 & 260.000 & 124 & 7.8 & 248.000\\\\\n\t Men in Black                       & 1997 & PG-13 &  90.000 & 250.147 &  98 & 7.4 & 160.147\\\\\n\t Multiplicity                       & 1996 & PG-13 &  45.000 &  20.100 & 117 & 6.8 & -24.900\\\\\n\t Pulp Fiction                       & 1994 & R     &   8.000 & 107.930 & 154 & 8.3 &  99.930\\\\\n\t Raiders of the Lost Ark            & 1981 & PG    &  20.000 & 242.374 & 115 & 8.3 & 222.374\\\\\n\t Saving Private ryan                & 1998 & R     &  70.000 & 178.091 & 170 & 9.1 & 108.091\\\\\n\t Schindler's List                   & 1993 & R     &  25.000 &  96.067 & 197 & 8.6 &  71.067\\\\\n\t Scream                             & 1996 & R     &  15.000 & 103.001 & 111 & 7.7 &  88.001\\\\\n\t Speed 2:Cruise Control             & 1997 & PG-13 & 110.000 &  48.068 & 121 & 4.3 & -61.932\\\\\n\t Terminator                         & 1984 & R     &   6.400 &  36.900 & 108 & 7.7 &  30.500\\\\\n\t The American President             & 1995 & PG-13 &  62.000 &  65.000 & 114 & 7.6 &   3.000\\\\\n\t The Fifth Element                  & 1997 & PG-13 &  90.000 &  63.540 & 126 & 7.8 & -26.460\\\\\n\t The Game                           & 1997 & R     &  50.000 &  48.265 & 128 & 7.6 &  -1.735\\\\\n\t The Man in the Iron Mask           & 1998 & PG-13 &  35.000 &  56.876 & 132 & 6.5 &  21.876\\\\\n\t Titanic                            & 1997 & PG-13 & 200.000 & 600.743 & 195 & 8.4 & 400.743\\\\\n\t True Lies                          & 1994 & R     & 100.000 & 146.261 & 144 & 7.2 &  46.261\\\\\n\t Volcano                            & 1997 & PG-13 &  90.000 &  47.474 & 102 & 5.8 & -42.526\\\\\n\\end{tabular}\n",
            "text/plain": [
              "   Titulo                             Producao Classificacao Gasto   Renda  \n",
              "1  Aliens                             1986     R              18.500  81.843\n",
              "2  Armageddon                         1998     PG-13         140.000 194.125\n",
              "3  As Good As It Gets                 1997     PG-13          50.000 147.540\n",
              "4  Braveheart                         1995     R              72.000  75.600\n",
              "5  Chasing Amy                        1997     R               0.250  12.006\n",
              "6  Contact                            1997     PG             90.000 100.853\n",
              "7  Dante's Peak                       1997     PG-13         104.000  67.155\n",
              "8  Deep Impact                        1998     PG-13          75.000 140.424\n",
              "9  Executive Decision                 1996     R              55.000  68.750\n",
              "10 Forrest Gump                       1994     PG-13          55.000 329.691\n",
              "11 Ghost                              1990     PG-13          22.000 217.631\n",
              "12 Gone with the Wind                 1939     G               3.900 198.571\n",
              "13 Good Will Hunting                  1997     R              10.000 138.339\n",
              "14 Grease                             1978     PG              6.000 181.280\n",
              "15 Halloween                          1978     R               0.325  47.000\n",
              "16 Hard Rain                          1998     R              70.000  19.819\n",
              "17 I Know What You Did Last Summer    1997     R              17.000  72.219\n",
              "18 Independence Day                   1996     PG-13          75.000 306.124\n",
              "19 Indiana Jones and the Last Crusade 1989     PG-13          39.000 197.171\n",
              "20 Jaws                               1975     PG             12.000 260.000\n",
              "21 Men in Black                       1997     PG-13          90.000 250.147\n",
              "22 Multiplicity                       1996     PG-13          45.000  20.100\n",
              "23 Pulp Fiction                       1994     R               8.000 107.930\n",
              "24 Raiders of the Lost Ark            1981     PG             20.000 242.374\n",
              "25 Saving Private ryan                1998     R              70.000 178.091\n",
              "26 Schindler's List                   1993     R              25.000  96.067\n",
              "27 Scream                             1996     R              15.000 103.001\n",
              "28 Speed 2:Cruise Control             1997     PG-13         110.000  48.068\n",
              "29 Terminator                         1984     R               6.400  36.900\n",
              "30 The American President             1995     PG-13          62.000  65.000\n",
              "31 The Fifth Element                  1997     PG-13          90.000  63.540\n",
              "32 The Game                           1997     R              50.000  48.265\n",
              "33 The Man in the Iron Mask           1998     PG-13          35.000  56.876\n",
              "34 Titanic                            1997     PG-13         200.000 600.743\n",
              "35 True Lies                          1994     R             100.000 146.261\n",
              "36 Volcano                            1997     PG-13          90.000  47.474\n",
              "   Duracao TaxaEspectadores Lucro  \n",
              "1  137     8.2               63.343\n",
              "2  144     6.7               54.125\n",
              "3  138     8.1               97.540\n",
              "4  177     8.3                3.600\n",
              "5  105     7.9               11.756\n",
              "6  153     8.3               10.853\n",
              "7  112     6.7              -36.845\n",
              "8  120     6.4               65.424\n",
              "9  129     7.3               13.750\n",
              "10 142     7.7              274.691\n",
              "11 128     7.1              195.631\n",
              "12 222     8.0              194.671\n",
              "13 126     8.5              128.339\n",
              "14 110     7.3              175.280\n",
              "15  93     7.7               46.675\n",
              "16  95     5.2              -50.181\n",
              "17 100     6.5               55.219\n",
              "18 142     6.6              231.124\n",
              "19 127     7.8              158.171\n",
              "20 124     7.8              248.000\n",
              "21  98     7.4              160.147\n",
              "22 117     6.8              -24.900\n",
              "23 154     8.3               99.930\n",
              "24 115     8.3              222.374\n",
              "25 170     9.1              108.091\n",
              "26 197     8.6               71.067\n",
              "27 111     7.7               88.001\n",
              "28 121     4.3              -61.932\n",
              "29 108     7.7               30.500\n",
              "30 114     7.6                3.000\n",
              "31 126     7.8              -26.460\n",
              "32 128     7.6               -1.735\n",
              "33 132     6.5               21.876\n",
              "34 195     8.4              400.743\n",
              "35 144     7.2               46.261\n",
              "36 102     5.8              -42.526"
            ]
          },
          "metadata": {}
        }
      ]
    },
    {
      "cell_type": "code",
      "source": [
        "pos <- which.max(dadosLucro$Lucro)"
      ],
      "metadata": {
        "id": "zK_7z8NhNQIP"
      },
      "execution_count": 19,
      "outputs": []
    },
    {
      "cell_type": "code",
      "source": [
        "pos"
      ],
      "metadata": {
        "colab": {
          "base_uri": "https://localhost:8080/",
          "height": 34
        },
        "id": "J9oSc3AVNVeX",
        "outputId": "1ae1c6c0-b47f-4bfb-c7dc-d40a39b7b664"
      },
      "execution_count": 20,
      "outputs": [
        {
          "output_type": "display_data",
          "data": {
            "text/html": [
              "34"
            ],
            "text/markdown": "34",
            "text/latex": "34",
            "text/plain": [
              "[1] 34"
            ]
          },
          "metadata": {}
        }
      ]
    },
    {
      "cell_type": "code",
      "source": [
        "dadosLucro[pos, ]"
      ],
      "metadata": {
        "colab": {
          "base_uri": "https://localhost:8080/",
          "height": 129
        },
        "id": "2vjJuxqYNWqv",
        "outputId": "d7e223dc-9605-46ce-f35f-251972890e44"
      },
      "execution_count": 21,
      "outputs": [
        {
          "output_type": "display_data",
          "data": {
            "text/html": [
              "<table class=\"dataframe\">\n",
              "<caption>A data.frame: 1 × 8</caption>\n",
              "<thead>\n",
              "\t<tr><th></th><th scope=col>Titulo</th><th scope=col>Producao</th><th scope=col>Classificacao</th><th scope=col>Gasto</th><th scope=col>Renda</th><th scope=col>Duracao</th><th scope=col>TaxaEspectadores</th><th scope=col>Lucro</th></tr>\n",
              "\t<tr><th></th><th scope=col>&lt;chr&gt;</th><th scope=col>&lt;int&gt;</th><th scope=col>&lt;chr&gt;</th><th scope=col>&lt;dbl&gt;</th><th scope=col>&lt;dbl&gt;</th><th scope=col>&lt;int&gt;</th><th scope=col>&lt;dbl&gt;</th><th scope=col>&lt;dbl&gt;</th></tr>\n",
              "</thead>\n",
              "<tbody>\n",
              "\t<tr><th scope=row>34</th><td>Titanic</td><td>1997</td><td>PG-13</td><td>200</td><td>600.743</td><td>195</td><td>8.4</td><td>400.743</td></tr>\n",
              "</tbody>\n",
              "</table>\n"
            ],
            "text/markdown": "\nA data.frame: 1 × 8\n\n| <!--/--> | Titulo &lt;chr&gt; | Producao &lt;int&gt; | Classificacao &lt;chr&gt; | Gasto &lt;dbl&gt; | Renda &lt;dbl&gt; | Duracao &lt;int&gt; | TaxaEspectadores &lt;dbl&gt; | Lucro &lt;dbl&gt; |\n|---|---|---|---|---|---|---|---|---|\n| 34 | Titanic | 1997 | PG-13 | 200 | 600.743 | 195 | 8.4 | 400.743 |\n\n",
            "text/latex": "A data.frame: 1 × 8\n\\begin{tabular}{r|llllllll}\n  & Titulo & Producao & Classificacao & Gasto & Renda & Duracao & TaxaEspectadores & Lucro\\\\\n  & <chr> & <int> & <chr> & <dbl> & <dbl> & <int> & <dbl> & <dbl>\\\\\n\\hline\n\t34 & Titanic & 1997 & PG-13 & 200 & 600.743 & 195 & 8.4 & 400.743\\\\\n\\end{tabular}\n",
            "text/plain": [
              "   Titulo  Producao Classificacao Gasto Renda   Duracao TaxaEspectadores\n",
              "34 Titanic 1997     PG-13         200   600.743 195     8.4             \n",
              "   Lucro  \n",
              "34 400.743"
            ]
          },
          "metadata": {}
        }
      ]
    },
    {
      "cell_type": "code",
      "source": [
        "min <- which.min(dadosLucro$Lucro)\n"
      ],
      "metadata": {
        "id": "uFOZgDq-Nlu3"
      },
      "execution_count": 22,
      "outputs": []
    },
    {
      "cell_type": "code",
      "source": [
        "dadosLucro[min, ]"
      ],
      "metadata": {
        "colab": {
          "base_uri": "https://localhost:8080/",
          "height": 129
        },
        "id": "4DQyyIjLNtV3",
        "outputId": "ff8493f4-e2af-4b8d-cf1f-db2aa4eb8b48"
      },
      "execution_count": 23,
      "outputs": [
        {
          "output_type": "display_data",
          "data": {
            "text/html": [
              "<table class=\"dataframe\">\n",
              "<caption>A data.frame: 1 × 8</caption>\n",
              "<thead>\n",
              "\t<tr><th></th><th scope=col>Titulo</th><th scope=col>Producao</th><th scope=col>Classificacao</th><th scope=col>Gasto</th><th scope=col>Renda</th><th scope=col>Duracao</th><th scope=col>TaxaEspectadores</th><th scope=col>Lucro</th></tr>\n",
              "\t<tr><th></th><th scope=col>&lt;chr&gt;</th><th scope=col>&lt;int&gt;</th><th scope=col>&lt;chr&gt;</th><th scope=col>&lt;dbl&gt;</th><th scope=col>&lt;dbl&gt;</th><th scope=col>&lt;int&gt;</th><th scope=col>&lt;dbl&gt;</th><th scope=col>&lt;dbl&gt;</th></tr>\n",
              "</thead>\n",
              "<tbody>\n",
              "\t<tr><th scope=row>28</th><td>Speed 2:Cruise Control</td><td>1997</td><td>PG-13</td><td>110</td><td>48.068</td><td>121</td><td>4.3</td><td>-61.932</td></tr>\n",
              "</tbody>\n",
              "</table>\n"
            ],
            "text/markdown": "\nA data.frame: 1 × 8\n\n| <!--/--> | Titulo &lt;chr&gt; | Producao &lt;int&gt; | Classificacao &lt;chr&gt; | Gasto &lt;dbl&gt; | Renda &lt;dbl&gt; | Duracao &lt;int&gt; | TaxaEspectadores &lt;dbl&gt; | Lucro &lt;dbl&gt; |\n|---|---|---|---|---|---|---|---|---|\n| 28 | Speed 2:Cruise Control | 1997 | PG-13 | 110 | 48.068 | 121 | 4.3 | -61.932 |\n\n",
            "text/latex": "A data.frame: 1 × 8\n\\begin{tabular}{r|llllllll}\n  & Titulo & Producao & Classificacao & Gasto & Renda & Duracao & TaxaEspectadores & Lucro\\\\\n  & <chr> & <int> & <chr> & <dbl> & <dbl> & <int> & <dbl> & <dbl>\\\\\n\\hline\n\t28 & Speed 2:Cruise Control & 1997 & PG-13 & 110 & 48.068 & 121 & 4.3 & -61.932\\\\\n\\end{tabular}\n",
            "text/plain": [
              "   Titulo                 Producao Classificacao Gasto Renda  Duracao\n",
              "28 Speed 2:Cruise Control 1997     PG-13         110   48.068 121    \n",
              "   TaxaEspectadores Lucro  \n",
              "28 4.3              -61.932"
            ]
          },
          "metadata": {}
        }
      ]
    },
    {
      "cell_type": "code",
      "source": [
        "mean(dados$Duracao)"
      ],
      "metadata": {
        "colab": {
          "base_uri": "https://localhost:8080/",
          "height": 34
        },
        "id": "L4VTeXePN4R3",
        "outputId": "20a58b33-698d-47da-a158-6cc30d82ddab"
      },
      "execution_count": 24,
      "outputs": [
        {
          "output_type": "display_data",
          "data": {
            "text/html": [
              "132.111111111111"
            ],
            "text/markdown": "132.111111111111",
            "text/latex": "132.111111111111",
            "text/plain": [
              "[1] 132.1111"
            ]
          },
          "metadata": {}
        }
      ]
    },
    {
      "cell_type": "code",
      "source": [
        "library(dplyr)"
      ],
      "metadata": {
        "id": "kyczuDxxN-bH"
      },
      "execution_count": null,
      "outputs": []
    },
    {
      "cell_type": "code",
      "source": [
        "qtdAno <- dados %>% select(Titulo, Producao) %>% group_by(Producao) %>% count()"
      ],
      "metadata": {
        "id": "nz_OT_mDOUT3"
      },
      "execution_count": 29,
      "outputs": []
    },
    {
      "cell_type": "code",
      "source": [
        "print(qtdAno)"
      ],
      "metadata": {
        "colab": {
          "base_uri": "https://localhost:8080/"
        },
        "id": "VsKRFwxHPenn",
        "outputId": "df33ff96-5370-4cef-ec97-d8547a9e0074"
      },
      "execution_count": 30,
      "outputs": [
        {
          "output_type": "stream",
          "name": "stdout",
          "text": [
            "\u001b[90m# A tibble: 14 × 2\u001b[39m\n",
            "\u001b[90m# Groups:   Producao [14]\u001b[39m\n",
            "   Producao     n\n",
            "      \u001b[3m\u001b[90m<int>\u001b[39m\u001b[23m \u001b[3m\u001b[90m<int>\u001b[39m\u001b[23m\n",
            "\u001b[90m 1\u001b[39m     \u001b[4m1\u001b[24m939     1\n",
            "\u001b[90m 2\u001b[39m     \u001b[4m1\u001b[24m975     1\n",
            "\u001b[90m 3\u001b[39m     \u001b[4m1\u001b[24m978     2\n",
            "\u001b[90m 4\u001b[39m     \u001b[4m1\u001b[24m981     1\n",
            "\u001b[90m 5\u001b[39m     \u001b[4m1\u001b[24m984     1\n",
            "\u001b[90m 6\u001b[39m     \u001b[4m1\u001b[24m986     1\n",
            "\u001b[90m 7\u001b[39m     \u001b[4m1\u001b[24m989     1\n",
            "\u001b[90m 8\u001b[39m     \u001b[4m1\u001b[24m990     1\n",
            "\u001b[90m 9\u001b[39m     \u001b[4m1\u001b[24m993     1\n",
            "\u001b[90m10\u001b[39m     \u001b[4m1\u001b[24m994     3\n",
            "\u001b[90m11\u001b[39m     \u001b[4m1\u001b[24m995     2\n",
            "\u001b[90m12\u001b[39m     \u001b[4m1\u001b[24m996     4\n",
            "\u001b[90m13\u001b[39m     \u001b[4m1\u001b[24m997    12\n",
            "\u001b[90m14\u001b[39m     \u001b[4m1\u001b[24m998     5\n"
          ]
        }
      ]
    },
    {
      "cell_type": "code",
      "source": [
        "qtdAno %>% filter(n == max(qtdAno$n))"
      ],
      "metadata": {
        "colab": {
          "base_uri": "https://localhost:8080/",
          "height": 129
        },
        "id": "-sIzmrqaPlgv",
        "outputId": "f1ccf47b-f25b-4c9e-bc4c-c68b1df06b75"
      },
      "execution_count": 32,
      "outputs": [
        {
          "output_type": "display_data",
          "data": {
            "text/html": [
              "<table class=\"dataframe\">\n",
              "<caption>A grouped_df: 1 × 2</caption>\n",
              "<thead>\n",
              "\t<tr><th scope=col>Producao</th><th scope=col>n</th></tr>\n",
              "\t<tr><th scope=col>&lt;int&gt;</th><th scope=col>&lt;int&gt;</th></tr>\n",
              "</thead>\n",
              "<tbody>\n",
              "\t<tr><td>1997</td><td>12</td></tr>\n",
              "</tbody>\n",
              "</table>\n"
            ],
            "text/markdown": "\nA grouped_df: 1 × 2\n\n| Producao &lt;int&gt; | n &lt;int&gt; |\n|---|---|\n| 1997 | 12 |\n\n",
            "text/latex": "A grouped\\_df: 1 × 2\n\\begin{tabular}{ll}\n Producao & n\\\\\n <int> & <int>\\\\\n\\hline\n\t 1997 & 12\\\\\n\\end{tabular}\n",
            "text/plain": [
              "  Producao n \n",
              "1 1997     12"
            ]
          },
          "metadata": {}
        }
      ]
    },
    {
      "cell_type": "code",
      "source": [
        "qtdAno %>% filter(Producao %in% c(1997, 1998, 1989)) %>% arrange(n)"
      ],
      "metadata": {
        "colab": {
          "base_uri": "https://localhost:8080/",
          "height": 192
        },
        "id": "pRZDbmZrQgO4",
        "outputId": "f693ef1b-139c-4d6a-cbc3-8497a7cf83f0"
      },
      "execution_count": 41,
      "outputs": [
        {
          "output_type": "display_data",
          "data": {
            "text/html": [
              "<table class=\"dataframe\">\n",
              "<caption>A grouped_df: 3 × 2</caption>\n",
              "<thead>\n",
              "\t<tr><th scope=col>Producao</th><th scope=col>n</th></tr>\n",
              "\t<tr><th scope=col>&lt;int&gt;</th><th scope=col>&lt;int&gt;</th></tr>\n",
              "</thead>\n",
              "<tbody>\n",
              "\t<tr><td>1989</td><td> 1</td></tr>\n",
              "\t<tr><td>1998</td><td> 5</td></tr>\n",
              "\t<tr><td>1997</td><td>12</td></tr>\n",
              "</tbody>\n",
              "</table>\n"
            ],
            "text/markdown": "\nA grouped_df: 3 × 2\n\n| Producao &lt;int&gt; | n &lt;int&gt; |\n|---|---|\n| 1989 |  1 |\n| 1998 |  5 |\n| 1997 | 12 |\n\n",
            "text/latex": "A grouped\\_df: 3 × 2\n\\begin{tabular}{ll}\n Producao & n\\\\\n <int> & <int>\\\\\n\\hline\n\t 1989 &  1\\\\\n\t 1998 &  5\\\\\n\t 1997 & 12\\\\\n\\end{tabular}\n",
            "text/plain": [
              "  Producao n \n",
              "1 1989      1\n",
              "2 1998      5\n",
              "3 1997     12"
            ]
          },
          "metadata": {}
        }
      ]
    },
    {
      "cell_type": "code",
      "source": [
        "#comentário\n",
        "var <- qtdAno %>% filter(Producao == 1997 | Producao == 1998 | Producao == 1989)"
      ],
      "metadata": {
        "id": "whodN-ovQ9_m"
      },
      "execution_count": 44,
      "outputs": []
    },
    {
      "cell_type": "code",
      "source": [
        "var[c(2,3,1), ]"
      ],
      "metadata": {
        "colab": {
          "base_uri": "https://localhost:8080/",
          "height": 192
        },
        "id": "C-IZxZHzRjXX",
        "outputId": "f4b5f702-22e7-4e3d-a956-13a5c82886ee"
      },
      "execution_count": 45,
      "outputs": [
        {
          "output_type": "display_data",
          "data": {
            "text/html": [
              "<table class=\"dataframe\">\n",
              "<caption>A grouped_df: 3 × 2</caption>\n",
              "<thead>\n",
              "\t<tr><th scope=col>Producao</th><th scope=col>n</th></tr>\n",
              "\t<tr><th scope=col>&lt;int&gt;</th><th scope=col>&lt;int&gt;</th></tr>\n",
              "</thead>\n",
              "<tbody>\n",
              "\t<tr><td>1997</td><td>12</td></tr>\n",
              "\t<tr><td>1998</td><td> 5</td></tr>\n",
              "\t<tr><td>1989</td><td> 1</td></tr>\n",
              "</tbody>\n",
              "</table>\n"
            ],
            "text/markdown": "\nA grouped_df: 3 × 2\n\n| Producao &lt;int&gt; | n &lt;int&gt; |\n|---|---|\n| 1997 | 12 |\n| 1998 |  5 |\n| 1989 |  1 |\n\n",
            "text/latex": "A grouped\\_df: 3 × 2\n\\begin{tabular}{ll}\n Producao & n\\\\\n <int> & <int>\\\\\n\\hline\n\t 1997 & 12\\\\\n\t 1998 &  5\\\\\n\t 1989 &  1\\\\\n\\end{tabular}\n",
            "text/plain": [
              "  Producao n \n",
              "1 1997     12\n",
              "2 1998      5\n",
              "3 1989      1"
            ]
          },
          "metadata": {}
        }
      ]
    },
    {
      "cell_type": "code",
      "source": [
        "qtdAno %>% arrange(desc(n), Producao)"
      ],
      "metadata": {
        "colab": {
          "base_uri": "https://localhost:8080/",
          "height": 554
        },
        "id": "Z0egisE6R8GH",
        "outputId": "281a0123-a0b0-4d10-ef42-a600f294b9d5"
      },
      "execution_count": 42,
      "outputs": [
        {
          "output_type": "display_data",
          "data": {
            "text/html": [
              "<table class=\"dataframe\">\n",
              "<caption>A grouped_df: 14 × 2</caption>\n",
              "<thead>\n",
              "\t<tr><th scope=col>Producao</th><th scope=col>n</th></tr>\n",
              "\t<tr><th scope=col>&lt;int&gt;</th><th scope=col>&lt;int&gt;</th></tr>\n",
              "</thead>\n",
              "<tbody>\n",
              "\t<tr><td>1997</td><td>12</td></tr>\n",
              "\t<tr><td>1998</td><td> 5</td></tr>\n",
              "\t<tr><td>1996</td><td> 4</td></tr>\n",
              "\t<tr><td>1994</td><td> 3</td></tr>\n",
              "\t<tr><td>1978</td><td> 2</td></tr>\n",
              "\t<tr><td>1995</td><td> 2</td></tr>\n",
              "\t<tr><td>1939</td><td> 1</td></tr>\n",
              "\t<tr><td>1975</td><td> 1</td></tr>\n",
              "\t<tr><td>1981</td><td> 1</td></tr>\n",
              "\t<tr><td>1984</td><td> 1</td></tr>\n",
              "\t<tr><td>1986</td><td> 1</td></tr>\n",
              "\t<tr><td>1989</td><td> 1</td></tr>\n",
              "\t<tr><td>1990</td><td> 1</td></tr>\n",
              "\t<tr><td>1993</td><td> 1</td></tr>\n",
              "</tbody>\n",
              "</table>\n"
            ],
            "text/markdown": "\nA grouped_df: 14 × 2\n\n| Producao &lt;int&gt; | n &lt;int&gt; |\n|---|---|\n| 1997 | 12 |\n| 1998 |  5 |\n| 1996 |  4 |\n| 1994 |  3 |\n| 1978 |  2 |\n| 1995 |  2 |\n| 1939 |  1 |\n| 1975 |  1 |\n| 1981 |  1 |\n| 1984 |  1 |\n| 1986 |  1 |\n| 1989 |  1 |\n| 1990 |  1 |\n| 1993 |  1 |\n\n",
            "text/latex": "A grouped\\_df: 14 × 2\n\\begin{tabular}{ll}\n Producao & n\\\\\n <int> & <int>\\\\\n\\hline\n\t 1997 & 12\\\\\n\t 1998 &  5\\\\\n\t 1996 &  4\\\\\n\t 1994 &  3\\\\\n\t 1978 &  2\\\\\n\t 1995 &  2\\\\\n\t 1939 &  1\\\\\n\t 1975 &  1\\\\\n\t 1981 &  1\\\\\n\t 1984 &  1\\\\\n\t 1986 &  1\\\\\n\t 1989 &  1\\\\\n\t 1990 &  1\\\\\n\t 1993 &  1\\\\\n\\end{tabular}\n",
            "text/plain": [
              "   Producao n \n",
              "1  1997     12\n",
              "2  1998      5\n",
              "3  1996      4\n",
              "4  1994      3\n",
              "5  1978      2\n",
              "6  1995      2\n",
              "7  1939      1\n",
              "8  1975      1\n",
              "9  1981      1\n",
              "10 1984      1\n",
              "11 1986      1\n",
              "12 1989      1\n",
              "13 1990      1\n",
              "14 1993      1"
            ]
          },
          "metadata": {}
        }
      ]
    }
  ]
}